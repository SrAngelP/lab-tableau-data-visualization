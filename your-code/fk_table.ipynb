{
 "cells": [
  {
   "cell_type": "code",
   "execution_count": 15,
   "id": "31f1fb5f-87cf-4bec-8acb-b75f53cf9176",
   "metadata": {},
   "outputs": [],
   "source": [
    "import pandas as pd\n",
    "import re"
   ]
  },
  {
   "cell_type": "code",
   "execution_count": 16,
   "id": "1e0b6db7-c9c3-44e5-b67b-e60e97e3a812",
   "metadata": {},
   "outputs": [],
   "source": [
    "fk_tab = pd.read_csv('../data/countries-of-the-world.csv')"
   ]
  },
  {
   "cell_type": "code",
   "execution_count": 17,
   "id": "cb0ee362-0a01-4757-afba-a7b027244d9a",
   "metadata": {},
   "outputs": [],
   "source": [
    "fk_tab['Pop. Density (per sq. mi.)'] = [re.sub(',', '.',x) for x in fk_tab['Pop. Density (per sq. mi.)']]\n"
   ]
  },
  {
   "cell_type": "code",
   "execution_count": 18,
   "id": "3d7cc49a-6780-46bf-97d8-595494e1dd60",
   "metadata": {},
   "outputs": [],
   "source": [
    "fk_tab['Pop. Density (per sq. mi.)'] = pd.to_numeric(fk_tab['Pop. Density (per sq. mi.)'])"
   ]
  },
  {
   "cell_type": "code",
   "execution_count": 19,
   "id": "10b352c3-6a5a-4daa-8e5e-1be42b31566e",
   "metadata": {},
   "outputs": [],
   "source": [
    "fk_tab.to_csv('../data/countries-of-the-world1.tsv', sep ='\\t', index=False)"
   ]
  },
  {
   "cell_type": "code",
   "execution_count": null,
   "id": "f131e4eb-3833-44f6-bc43-cf1d029b2f39",
   "metadata": {},
   "outputs": [],
   "source": []
  }
 ],
 "metadata": {
  "kernelspec": {
   "display_name": "Python 3 (ipykernel)",
   "language": "python",
   "name": "python3"
  },
  "language_info": {
   "codemirror_mode": {
    "name": "ipython",
    "version": 3
   },
   "file_extension": ".py",
   "mimetype": "text/x-python",
   "name": "python",
   "nbconvert_exporter": "python",
   "pygments_lexer": "ipython3",
   "version": "3.9.12"
  }
 },
 "nbformat": 4,
 "nbformat_minor": 5
}
